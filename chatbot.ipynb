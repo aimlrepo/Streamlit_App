{
 "cells": [
  {
   "cell_type": "code",
   "id": "initial_id",
   "metadata": {
    "collapsed": true
   },
   "source": [
    "from typing import Annotated, TypedDict\n",
    "\n",
    "from dotenv import load_dotenv\n",
    "from langchain_core.messages import BaseMessage, HumanMessage\n",
    "from langchain_openai import ChatOpenAI\n",
    "from langgraph.graph.message import add_messages\n",
    "#from pydantic import BaseModel\n",
    "from langgraph.graph import StateGraph, START, END\n",
    "# add memory in the RAM\n",
    "from langgraph.checkpoint.memory import MemorySaver\n",
    "\n",
    "\n",
    "load_dotenv()"
   ],
   "outputs": [],
   "execution_count": null
  },
  {
   "metadata": {
    "ExecuteTime": {
     "end_time": "2025-08-07T12:49:04.393883Z",
     "start_time": "2025-08-07T12:49:04.387761Z"
    }
   },
   "cell_type": "code",
   "source": [
    "class ChatState(TypedDict):\n",
    "    messages: Annotated[list[BaseMessage], add_messages]"
   ],
   "id": "b4e7687ce1ab8bb5",
   "outputs": [],
   "execution_count": 2
  },
  {
   "metadata": {
    "ExecuteTime": {
     "end_time": "2025-08-07T12:49:06.901500Z",
     "start_time": "2025-08-07T12:49:06.895106Z"
    }
   },
   "cell_type": "code",
   "source": [
    "def chat_node(state: ChatState) -> ChatState:\n",
    "    llm = ChatOpenAI()\n",
    "    messages = llm.invoke(state[\"messages\"])\n",
    "    return {\"messages\": [messages]}\n"
   ],
   "id": "516a27186adbb323",
   "outputs": [],
   "execution_count": 3
  },
  {
   "metadata": {},
   "cell_type": "code",
   "source": [
    "model = StateGraph(ChatState)\n",
    "model.add_node('chat_node', chat_node)\n",
    "model.add_edge(START, 'chat_node')\n",
    "model.add_edge('chat_node', END)\n",
    "\n",
    "graph = model.compile(checkpointer=MemorySaver())\n",
    "\n",
    "graph\n",
    "\n"
   ],
   "id": "700f0cdce043ad06",
   "outputs": [],
   "execution_count": null
  },
  {
   "metadata": {
    "ExecuteTime": {
     "end_time": "2025-08-07T12:49:31.424553Z",
     "start_time": "2025-08-07T12:49:29.339250Z"
    }
   },
   "cell_type": "code",
   "source": [
    "init_state = {'messages': [HumanMessage(content = 'What is the capital of Delhi')]}\n",
    "thread_id = 1\n",
    "\n",
    "config = {'configurable': {'thread_id': thread_id}}\n",
    "result = graph.invoke(init_state, config = config)\n",
    "\n",
    "result['messages'][-1].content\n"
   ],
   "id": "9101866c3c5ede16",
   "outputs": [
    {
     "data": {
      "text/plain": [
       "'The capital of Delhi is New Delhi.'"
      ]
     },
     "execution_count": 6,
     "metadata": {},
     "output_type": "execute_result"
    }
   ],
   "execution_count": 6
  },
  {
   "metadata": {},
   "cell_type": "code",
   "source": [
    "#make the chatbot interface in terminal\n",
    "thread_id = 1\n",
    "config = {'configurable': {'thread_id': thread_id}}\n",
    "\n",
    "while True:\n",
    "    user_input = input(\"Type here: \")\n",
    "    print(\"You:\", user_input)\n",
    "    if user_input.strip().lower() in ('quit', 'exit', 'q', 'bye'):\n",
    "        break\n",
    "\n",
    "    init_state = {'messages': [HumanMessage(content = user_input)]}\n",
    "    result = graph.invoke(init_state, config = config)\n",
    "    print('AI: ', result['messages'][-1].content)\n"
   ],
   "id": "e5e966461686f6f",
   "outputs": [],
   "execution_count": null
  }
 ],
 "metadata": {
  "kernelspec": {
   "display_name": "LLM",
   "language": "python",
   "name": "llm"
  },
  "language_info": {
   "codemirror_mode": {
    "name": "ipython",
    "version": 2
   },
   "file_extension": ".py",
   "mimetype": "text/x-python",
   "name": "python",
   "nbconvert_exporter": "python",
   "pygments_lexer": "ipython2",
   "version": "2.7.6"
  }
 },
 "nbformat": 4,
 "nbformat_minor": 5
}
